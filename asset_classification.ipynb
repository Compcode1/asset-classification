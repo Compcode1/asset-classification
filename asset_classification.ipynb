{
 "cells": [
  {
   "cell_type": "markdown",
   "metadata": {},
   "source": [
    "#### **INTRODUCTION**\n",
    "\n",
    "You are operating a small business from your home and must create an inventory of your network devices. This will help you determine which ones contain sensitive information that require extra protection. Then, you’ll list important characteristics of each device such as its owner, location, and type. Finally, you will assign each device a level of sensitivity based on how important it is to protect.\n",
    "\n"
   ]
  },
  {
   "cell_type": "markdown",
   "metadata": {},
   "source": [
    "### Home Asset Inventory\n",
    "\n",
    "| **Asset**             | **Network Access** | **Owner**         | **Location**       | **Notes**                                                                                   | **Sensitivity**   |\n",
    "|------------------------|--------------------|-------------------|--------------------|--------------------------------------------------------------------------------------------|-------------------|\n",
    "| Network router         | Continuous         | ISP               | On-premises        | Has a 2.4 GHz and 5 GHz connection. All devices on the home network connect to the 5 GHz.  | Confidential      |\n",
    "| Desktop                | Occasional         | Homeowner         | On-premises        | Contains private information, like photos.                                                 | Restricted        |\n",
    "| Guest smartphone       | Occasional         | Friend            | On and Off-premises| Connects to my home network.                                                               | Internal-only     |\n",
    "| Printer                | Occasional         | Homeowner         | On-premises        | Connects to the network via Wi-Fi. Used for printing business invoices.                    | Restricted        |\n",
    "| Smart TV               | Frequent           | Homeowner         | On-premises        | Streams media from external services. May access network for updates and media sharing.    | Internal-only     |\n",
    "| External hard drive    | Rare               | Homeowner         | On-premises        | Stores sensitive business documents and backup files.                                      | Confidential      |\n"
   ]
  },
  {
   "cell_type": "markdown",
   "metadata": {},
   "source": [
    "**Explanation of Classifications**\n",
    "\n",
    "**Network Router (Confidential):**\n",
    "Critical to the entire network's functionality.\n",
    "Unauthorized access could compromise all connected devices.\n",
    "\n",
    "**Desktop (Restricted):**\n",
    "Contains sensitive personal data that needs restricted access.\n",
    "Ensuring strong passwords and local encryption is essential.\n",
    "\n",
    "**Guest Smartphone (Internal-only):**\n",
    "Limited access for non-resident users.\n",
    "Does not store sensitive information.\n",
    "\n",
    "**Printer (Restricted):**\n",
    "Frequently used for sensitive documents like invoices.\n",
    "Misuse could result in unauthorized document exposure.\n",
    "\n",
    "**Smart TV (Internal-only):**\n",
    "Regularly connects for media streaming but does not store sensitive data.\n",
    "Minimal risk if compromised.\n",
    "\n",
    "**External Hard Drive (Confidential):**\n",
    "Contains sensitive business backups and critical documents.\n",
    "Physical and network security measures are vital to protect its contents.\n"
   ]
  }
 ],
 "metadata": {
  "language_info": {
   "name": "python"
  }
 },
 "nbformat": 4,
 "nbformat_minor": 2
}
